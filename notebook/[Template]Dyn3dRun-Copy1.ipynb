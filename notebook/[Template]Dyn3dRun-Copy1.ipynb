{
 "cells": [
  {
   "cell_type": "markdown",
   "metadata": {},
   "source": [
    "### Choose from configuration files"
   ]
  },
  {
   "cell_type": "code",
   "execution_count": 1,
   "metadata": {},
   "outputs": [],
   "source": [
    "# \"2dLink\", \"2dFall\", \"2dSwim\", \"2dThrow\", \"2dTplate\", \"2dFallingCircle\"\n",
    "# \"3dHinge\", \"3dPrismatic\", \"3dCylindrical\"\n",
    "\n",
    "casename = \"2dFall\";"
   ]
  },
  {
   "cell_type": "markdown",
   "metadata": {},
   "source": [
    "### Include Dyn3d and config files"
   ]
  },
  {
   "cell_type": "code",
   "execution_count": 2,
   "metadata": {
    "scrolled": false
   },
   "outputs": [
    {
     "name": "stderr",
     "output_type": "stream",
     "text": [
      "┌ Info: Recompiling stale cache file /home/fs/.julia/compiled/v1.1/Dyn3d/wjQXj.ji for Dyn3d [d8047ffa-7f43-11e9-2204-adfbb6974ec5]\n",
      "└ @ Base loading.jl:1184\n"
     ]
    },
    {
     "data": {
      "text/html": [
       "<script>\n",
       "// Immediately-invoked-function-expression to avoid global variables.\n",
       "(function() {\n",
       "    var warning_div = document.getElementById(\"webio-warning-15373450770366680126\");\n",
       "    var hide = function () {\n",
       "        var script = document.getElementById(\"webio-setup-3735280032292533569\");\n",
       "        var parent = script && script.parentElement;\n",
       "        var grandparent = parent && parent.parentElement;\n",
       "        if (grandparent) {\n",
       "            grandparent.style.display = \"none\";\n",
       "        }\n",
       "        warning_div.style.display = \"none\";\n",
       "    };\n",
       "    if (typeof Jupyter !== \"undefined\") {\n",
       "        console.log(\"WebIO detected Jupyter notebook environment.\");\n",
       "        // Jupyter notebook.\n",
       "        var extensions = (\n",
       "            Jupyter\n",
       "            && Jupyter.notebook.config.data\n",
       "            && Jupyter.notebook.config.data.load_extensions\n",
       "        );\n",
       "        if (extensions && extensions[\"webio/main\"]) {\n",
       "            // Extension already loaded.\n",
       "            console.log(\"Jupyter WebIO nbextension detected; not loading ad-hoc.\");\n",
       "            hide();\n",
       "            return;\n",
       "        }\n",
       "        console.warn(\"Loading WebIO Jupyter extension on an ad-hoc basis. Consider enabling the WebIO nbextension for a stabler experience (this should happen automatically when building WebIO).\");\n",
       "        require([\"/assetserver/683a7301d38db30e6ed147bab5e3d38a784973f9-dist/main.js\"], function (webIOModule) {\n",
       "            webIOModule.load_ipython_extension();\n",
       "        });\n",
       "        warning_div.innerHTML = \"<strong>Loading WebIO Jupyter extension on an ad-hoc basis. Consider enabling the WebIO nbextension for a stabler experience (this should happen automatically when building WebIO).</strong>\";\n",
       "    } else if (window.location.pathname.includes(\"/lab\")) {\n",
       "        // Guessing JupyterLa\n",
       "        console.log(\"Jupyter Lab detected; make sure the @webio/jupyter-lab-provider labextension is installed.\");\n",
       "        hide();\n",
       "        return;\n",
       "    }\n",
       "})();\n",
       "\n",
       "</script>\n",
       "<div\n",
       "    id=\"webio-warning-15373450770366680126\"\n",
       "    class=\"output_text output_stderr\"\n",
       "    style=\"padding: 1em; font-weight: bold;\"\n",
       ">\n",
       "    Unable to load WebIO. Please make sure WebIO works for your Jupyter client.\n",
       "    <!-- TODO: link to installation docs. -->\n",
       "</div>\n"
      ],
      "text/plain": [
       "HTML{String}(\"<script>\\n// Immediately-invoked-function-expression to avoid global variables.\\n(function() {\\n    var warning_div = document.getElementById(\\\"webio-warning-15373450770366680126\\\");\\n    var hide = function () {\\n        var script = document.getElementById(\\\"webio-setup-3735280032292533569\\\");\\n        var parent = script && script.parentElement;\\n        var grandparent = parent && parent.parentElement;\\n        if (grandparent) {\\n            grandparent.style.display = \\\"none\\\";\\n        }\\n        warning_div.style.display = \\\"none\\\";\\n    };\\n    if (typeof Jupyter !== \\\"undefined\\\") {\\n        console.log(\\\"WebIO detected Jupyter notebook environment.\\\");\\n        // Jupyter notebook.\\n        var extensions = (\\n            Jupyter\\n            && Jupyter.notebook.config.data\\n            && Jupyter.notebook.config.data.load_extensions\\n        );\\n        if (extensions && extensions[\\\"webio/main\\\"]) {\\n            // Extension already loaded.\\n            console.log(\\\"Jupyter WebIO nbextension detected; not loading ad-hoc.\\\");\\n            hide();\\n            return;\\n        }\\n        console.warn(\\\"Loading WebIO Jupyter extension on an ad-hoc basis. Consider enabling the WebIO nbextension for a stabler experience (this should happen automatically when building WebIO).\\\");\\n        require([\\\"/assetserver/683a7301d38db30e6ed147bab5e3d38a784973f9-dist/main.js\\\"], function (webIOModule) {\\n            webIOModule.load_ipython_extension();\\n        });\\n        warning_div.innerHTML = \\\"<strong>Loading WebIO Jupyter extension on an ad-hoc basis. Consider enabling the WebIO nbextension for a stabler experience (this should happen automatically when building WebIO).</strong>\\\";\\n    } else if (window.location.pathname.includes(\\\"/lab\\\")) {\\n        // Guessing JupyterLa\\n        console.log(\\\"Jupyter Lab detected; make sure the @webio/jupyter-lab-provider labextension is installed.\\\");\\n        hide();\\n        return;\\n    }\\n})();\\n\\n</script>\\n<div\\n    id=\\\"webio-warning-15373450770366680126\\\"\\n    class=\\\"output_text output_stderr\\\"\\n    style=\\\"padding: 1em; font-weight: bold;\\\"\\n>\\n    Unable to load WebIO. Please make sure WebIO works for your Jupyter client.\\n    <!-- TODO: link to installation docs. -->\\n</div>\\n\")"
      ]
     },
     "metadata": {},
     "output_type": "display_data"
    },
    {
     "data": {
      "text/plain": [
       "Plots.PyPlotBackend()"
      ]
     },
     "execution_count": 2,
     "metadata": {},
     "output_type": "execute_result"
    }
   ],
   "source": [
    "using Pkg\n",
    "Pkg.activate(\"..\")\n",
    "\n",
    "using Revise\n",
    "using Dyn3d\n",
    "using Interact, Reactive\n",
    "using Plots\n",
    "pyplot()"
   ]
  },
  {
   "cell_type": "code",
   "execution_count": 3,
   "metadata": {},
   "outputs": [
    {
     "name": "stdout",
     "output_type": "stream",
     "text": [
      "Config info set up.\n"
     ]
    }
   ],
   "source": [
    "include(\"../src/config_files/\"*casename*\".jl\");"
   ]
  },
  {
   "cell_type": "markdown",
   "metadata": {},
   "source": [
    "### Build joint-body chain"
   ]
  },
  {
   "cell_type": "code",
   "execution_count": 4,
   "metadata": {},
   "outputs": [
    {
     "data": {
      "text/plain": []
     },
     "execution_count": 4,
     "metadata": {},
     "output_type": "execute_result"
    },
    {
     "name": "stdout",
     "output_type": "stream",
     "text": [
      "This is a 8 body-joint system, system is fixed in space"
     ]
    }
   ],
   "source": [
    "bodys, joints, system = BuildChain(config_bodys, config_joints,\n",
    "                                   config_system)\n",
    "bd = BodyDyn(bodys, joints, system)"
   ]
  },
  {
   "cell_type": "markdown",
   "metadata": {},
   "source": [
    "### Initialize system state"
   ]
  },
  {
   "cell_type": "code",
   "execution_count": 5,
   "metadata": {
    "scrolled": true
   },
   "outputs": [],
   "source": [
    "# init system\n",
    "bd, soln = InitSystem!(bd)\n",
    "\n",
    "# init soln structure\n",
    "solns = (Soln)[]\n",
    "push!(solns, soln)\n",
    "\n",
    "# init VertsHistory struct\n",
    "vs = []\n",
    "push!(vs, VertsHistory(system.nbody, bd.bs));"
   ]
  },
  {
   "cell_type": "markdown",
   "metadata": {},
   "source": [
    "### Set up HERKBody object"
   ]
  },
  {
   "cell_type": "code",
   "execution_count": 6,
   "metadata": {
    "scrolled": true
   },
   "outputs": [
    {
     "data": {
      "text/plain": [
       "Order-3 HERK time-marching function like object for Dyn3d\n"
      ]
     },
     "execution_count": 6,
     "metadata": {},
     "output_type": "execute_result"
    }
   ],
   "source": [
    "herk = HERKBody(system.num_params,HERKFuncM, HERKFuncGT, HERKFuncG,\n",
    "                (HERKFuncf,HERKFuncgti), (UpdatePosition!,UpdateVelocity!))"
   ]
  },
  {
   "cell_type": "markdown",
   "metadata": {},
   "source": [
    "### Time Marching"
   ]
  },
  {
   "cell_type": "markdown",
   "metadata": {},
   "source": [
    "#### Note that sometimes the solver can break due to singular matrix. Change between fixed step or not to solve the problem"
   ]
  },
  {
   "cell_type": "code",
   "execution_count": 7,
   "metadata": {
    "scrolled": false
   },
   "outputs": [
    {
     "name": "stdout",
     "output_type": "stream",
     "text": [
      "itr = 1, t = 0.0, dt = 0.0014\n",
      "itr = 501, t = 1.17, dt = 0.0013\n",
      "itr = 1001, t = 1.95, dt = 0.0019\n",
      "itr = 1501, t = 3.0, dt = 0.0023\n",
      "itr = 2001, t = 4.18, dt = 0.0009\n",
      "itr = 2501, t = 4.74, dt = 0.0028\n",
      "itr = 3001, t = 5.32, dt = 0.0008\n",
      "itr = 3501, t = 6.16, dt = 0.0014\n",
      "itr = 4001, t = 6.68, dt = 0.0012\n",
      "itr = 4501, t = 7.31, dt = 0.0008\n",
      "itr = 5001, t = 7.73, dt = 0.0013\n",
      "itr = 5159, t = 8.0, dt = 0.0021 \n",
      "\n",
      " 18.651499 seconds (37.83 M allocations: 6.309 GiB, 6.01% gc time)\n"
     ]
    }
   ],
   "source": [
    "idx = 0\n",
    "@time begin\n",
    "while soln.t < tf\n",
    "    # advance one step\n",
    "    global soln, bd = herk(soln, bd)\n",
    "#     soln, bd = herk(soln, bd, _isfixedstep=true)\n",
    "\n",
    "    # record soln and verts_i info\n",
    "    push!(solns, soln)\n",
    "    push!(vs, VertsHistory(system.nbody, bd.bs))\n",
    "\n",
    "    # print progress\n",
    "    global idx += 1\n",
    "    if mod(idx,500) == 1\n",
    "        println(\"itr = $(idx), t = $(round(soln.t,digits=2)), dt = $(round(soln.dt,digits=4))\")\n",
    "#         println(\"center of mass at\", MassCenter(bodys, system))\n",
    "    end\n",
    "end\n",
    "println(\"itr = $(idx), t = $(round(soln.t,digits=2)), dt = $(round(soln.dt,digits=4)) \\n\")\n",
    "end"
   ]
  },
  {
   "cell_type": "markdown",
   "metadata": {},
   "source": [
    "### Generate verts data on regulated time grid"
   ]
  },
  {
   "cell_type": "code",
   "execution_count": 8,
   "metadata": {
    "scrolled": true
   },
   "outputs": [],
   "source": [
    "bodys, joints, system = bd.bs, bd.js, bd.sys\n",
    "\n",
    "using Interpolations\n",
    "\n",
    "# create regular time grid and acquire solutions on it\n",
    "qJ_regs = Float64[]\n",
    "t_reg = range(0,stop=solns[end].t,length=length(solns))\n",
    "for i = 1:system.ndof\n",
    "    t_temp = ([solns[k].t for k = 1:length(solns)],)\n",
    "    qJ_temp = [solns[k].qJ[i] for k = 1:length(solns)]   \n",
    "    qJ_reg = interpolate(t_temp, qJ_temp, Gridded(Linear()))(t_reg)\n",
    "    append!(qJ_regs, qJ_reg)\n",
    "end\n",
    "qJ_regs = reshape(qJ_regs,(length(solns), system.ndof))\n",
    "\n",
    "# get verts info based on this regular grid solution\n",
    "vs_reg = []\n",
    "bodys_reg = deepcopy(bodys)\n",
    "joints_reg = deepcopy(joints)\n",
    "system_reg = deepcopy(system)\n",
    "for i = 1:length(solns)\n",
    "    bodys_reg, joints_reg, system_reg = UpdatePosition!(bodys_reg, joints_reg, system_reg, solns[i].qJ)\n",
    "    push!(vs_reg, VertsHistory(system.nbody, bodys_reg))\n",
    "end"
   ]
  },
  {
   "cell_type": "markdown",
   "metadata": {},
   "source": [
    "#### Store time-regulated verts in tuples"
   ]
  },
  {
   "cell_type": "code",
   "execution_count": 9,
   "metadata": {},
   "outputs": [],
   "source": [
    "# plot direction\n",
    "v = @isdefined(plot_dir) ? plot_dir : system.ndim==2 ? (1,2) : (1,2,3)\n",
    "\n",
    "if system.ndim == 2\n",
    "    # push the verts of all body in the same time into a tuple\n",
    "    vs_total = []\n",
    "    for i = 1:length(t_reg)\n",
    "        vs_tmp = []\n",
    "        for k = 1:system.nbody\n",
    "            push!(vs_tmp,[vs_reg[i][k,:,v[1]],vs_reg[i][k,:,v[2]]])\n",
    "        end\n",
    "        push!(vs_total,vs_tmp)\n",
    "    end\n",
    "elseif system.ndim == 3\n",
    "    h = [1:bodys[1].nverts;1]\n",
    "    # push the verts of all body in the same time into a tuple\n",
    "    vs_total = []\n",
    "    for i = 1:length(t_reg)\n",
    "        vs_tmp = []\n",
    "        for k = 1:system.nbody\n",
    "            push!(vs_tmp,[vs_reg[i][k,h,v[1]],vs_reg[i][k,h,v[2]],vs_reg[i][k,h,v[3]]])\n",
    "        end\n",
    "        push!(vs_total,vs_tmp)\n",
    "    end       \n",
    "end"
   ]
  },
  {
   "cell_type": "markdown",
   "metadata": {},
   "source": [
    "### Interactive plot"
   ]
  },
  {
   "cell_type": "code",
   "execution_count": 10,
   "metadata": {},
   "outputs": [],
   "source": [
    "# total number of frames for this interactive plot\n",
    "plot_number = 50;"
   ]
  },
  {
   "cell_type": "code",
   "execution_count": 11,
   "metadata": {
    "scrolled": false
   },
   "outputs": [
    {
     "data": {
      "application/vnd.webio.node+json": {
       "children": [
        {
         "children": [
          {
           "children": [
            {
             "children": [
              {
               "children": [
                {
                 "children": [
                  "i"
                 ],
                 "instanceArgs": {
                  "namespace": "html",
                  "tag": "label"
                 },
                 "nodeType": "DOM",
                 "props": {
                  "className": "interact ",
                  "style": {
                   "padding": "5px 10px 0px 10px"
                  }
                 },
                 "type": "node"
                }
               ],
               "instanceArgs": {
                "namespace": "html",
                "tag": "div"
               },
               "nodeType": "DOM",
               "props": {
                "className": "interact-flex-row-left"
               },
               "type": "node"
              },
              {
               "children": [
                {
                 "children": [],
                 "instanceArgs": {
                  "namespace": "html",
                  "tag": "input"
                 },
                 "nodeType": "DOM",
                 "props": {
                  "attributes": {
                   "data-bind": "numericValue: index, valueUpdate: 'input', event: {change: function (){this.changes(this.changes()+1)}}",
                   "orient": "horizontal",
                   "type": "range"
                  },
                  "className": "slider slider is-fullwidth",
                  "max": 5151,
                  "min": 1,
                  "step": 103,
                  "style": {}
                 },
                 "type": "node"
                }
               ],
               "instanceArgs": {
                "namespace": "html",
                "tag": "div"
               },
               "nodeType": "DOM",
               "props": {
                "className": "interact-flex-row-center"
               },
               "type": "node"
              },
              {
               "children": [
                {
                 "children": [],
                 "instanceArgs": {
                  "namespace": "html",
                  "tag": "p"
                 },
                 "nodeType": "DOM",
                 "props": {
                  "attributes": {
                   "data-bind": "text: formatted_val"
                  }
                 },
                 "type": "node"
                }
               ],
               "instanceArgs": {
                "namespace": "html",
                "tag": "div"
               },
               "nodeType": "DOM",
               "props": {
                "className": "interact-flex-row-right"
               },
               "type": "node"
              }
             ],
             "instanceArgs": {
              "namespace": "html",
              "tag": "div"
             },
             "nodeType": "DOM",
             "props": {
              "className": "interact-flex-row interact-widget"
             },
             "type": "node"
            }
           ],
           "instanceArgs": {
            "handlers": {
             "changes": [
              "(function (val){return (val!=this.model[\"changes\"]()) ? (this.valueFromJulia[\"changes\"]=true, this.model[\"changes\"](val)) : undefined})"
             ],
             "index": [
              "(function (val){return (val!=this.model[\"index\"]()) ? (this.valueFromJulia[\"index\"]=true, this.model[\"index\"](val)) : undefined})"
             ]
            },
            "id": "knockout-component-bc685925-8461-46b6-b81d-9d8fa971e2db",
            "imports": {
             "data": [
              {
               "name": "knockout",
               "type": "js",
               "url": "/assetserver/600110e09ffe769758f2864ead1f85caa4cef122-knockout.js"
              },
              {
               "name": "knockout_punches",
               "type": "js",
               "url": "/assetserver/6fcbda53a52cb7ee30cfe18a87733057b21d10d7-knockout_punches.js"
              },
              {
               "name": null,
               "type": "js",
               "url": "/assetserver/21c387f0947cafe2b5b49c6aaeceb5c6cdcef9eb-all.js"
              },
              {
               "name": null,
               "type": "css",
               "url": "/assetserver/755fb0d978e2e71d31238e558297f41115139d7b-style.css"
              },
              {
               "name": null,
               "type": "css",
               "url": "/assetserver/ea2ac5b5cceb260c54d800179abf36ccca05eed1-bulma_confined.min.css"
              }
             ],
             "type": "async_block"
            },
            "mount_callbacks": [
             "function () {\n    var handler = (function (ko, koPunches) {\n    ko.punches.enableAll();\n    ko.bindingHandlers.numericValue = {\n        init : function(element, valueAccessor, allBindings, data, context) {\n            var stringified = ko.observable(ko.unwrap(valueAccessor()));\n            stringified.subscribe(function(value) {\n                var val = parseFloat(value);\n                if (!isNaN(val)) {\n                    valueAccessor()(val);\n                }\n            })\n            valueAccessor().subscribe(function(value) {\n                var str = JSON.stringify(value);\n                if ((str == \"0\") && ([\"-0\", \"-0.\"].indexOf(stringified()) >= 0))\n                     return;\n                 if ([\"null\", \"\"].indexOf(str) >= 0)\n                     return;\n                stringified(str);\n            })\n            ko.applyBindingsToNode(element, { value: stringified, valueUpdate: allBindings.get('valueUpdate')}, context);\n        }\n    };\n    var json_data = {\"formatted_vals\":[\"1\",\"104\",\"207\",\"310\",\"413\",\"516\",\"619\",\"722\",\"825\",\"928\",\"1031\",\"1134\",\"1237\",\"1340\",\"1443\",\"1546\",\"1649\",\"1752\",\"1855\",\"1958\",\"2061\",\"2164\",\"2267\",\"2370\",\"2473\",\"2576\",\"2679\",\"2782\",\"2885\",\"2988\",\"3091\",\"3194\",\"3297\",\"3400\",\"3503\",\"3606\",\"3709\",\"3812\",\"3915\",\"4018\",\"4121\",\"4224\",\"4327\",\"4430\",\"4533\",\"4636\",\"4739\",\"4842\",\"4945\",\"5048\",\"5151\"],\"changes\":WebIO.getval({\"name\":\"changes\",\"scope\":\"knockout-component-bc685925-8461-46b6-b81d-9d8fa971e2db\",\"id\":\"ob_02\",\"type\":\"observable\"}),\"index\":WebIO.getval({\"name\":\"index\",\"scope\":\"knockout-component-bc685925-8461-46b6-b81d-9d8fa971e2db\",\"id\":\"ob_01\",\"type\":\"observable\"})};\n    var self = this;\n    function AppViewModel() {\n        for (var key in json_data) {\n            var el = json_data[key];\n            this[key] = Array.isArray(el) ? ko.observableArray(el) : ko.observable(el);\n        }\n        \n        [this[\"formatted_val\"]=ko.computed(    function(){\n        return this.formatted_vals()[parseInt(this.index())-1];\n    }\n,this)]\n        [this[\"changes\"].subscribe((function (val){!(this.valueFromJulia[\"changes\"]) ? (WebIO.setval({\"name\":\"changes\",\"scope\":\"knockout-component-bc685925-8461-46b6-b81d-9d8fa971e2db\",\"id\":\"ob_02\",\"type\":\"observable\"},val)) : undefined; return this.valueFromJulia[\"changes\"]=false}),self),this[\"index\"].subscribe((function (val){!(this.valueFromJulia[\"index\"]) ? (WebIO.setval({\"name\":\"index\",\"scope\":\"knockout-component-bc685925-8461-46b6-b81d-9d8fa971e2db\",\"id\":\"ob_01\",\"type\":\"observable\"},val)) : undefined; return this.valueFromJulia[\"index\"]=false}),self)]\n        \n    }\n    self.model = new AppViewModel();\n    self.valueFromJulia = {};\n    for (var key in json_data) {\n        self.valueFromJulia[key] = false;\n    }\n    ko.applyBindings(self.model, self.dom);\n}\n);\n    (WebIO.importBlock({\"data\":[{\"name\":\"knockout\",\"type\":\"js\",\"url\":\"/assetserver/600110e09ffe769758f2864ead1f85caa4cef122-knockout.js\"},{\"name\":\"knockout_punches\",\"type\":\"js\",\"url\":\"/assetserver/6fcbda53a52cb7ee30cfe18a87733057b21d10d7-knockout_punches.js\"}],\"type\":\"async_block\"})).then((imports) => handler.apply(this, imports));\n}\n"
            ],
            "observables": {
             "changes": {
              "id": "ob_02",
              "sync": false,
              "value": 0
             },
             "index": {
              "id": "ob_01",
              "sync": true,
              "value": 2576
             }
            },
            "systemjs_options": null
           },
           "nodeType": "Scope",
           "props": {},
           "type": "node"
          }
         ],
         "instanceArgs": {
          "namespace": "html",
          "tag": "div"
         },
         "nodeType": "DOM",
         "props": {
          "className": "field interact-widget"
         },
         "type": "node"
        },
        {
         "children": [
          {
           "children": [],
           "instanceArgs": {
            "id": "ob_08",
            "name": "obs-node"
           },
           "nodeType": "ObservableNode",
           "props": {},
           "type": "node"
          }
         ],
         "instanceArgs": {
          "handlers": {},
          "id": "scope-23816159-2096-4916-b236-a32b4dcbf1d0",
          "imports": {
           "data": [],
           "type": "async_block"
          },
          "mount_callbacks": [],
          "observables": {
           "obs-node": {
            "id": "ob_08",
            "sync": false,
            "value": {
             "children": [
              {
               "children": [],
               "instanceArgs": {
                "namespace": "html",
                "tag": "div"
               },
               "nodeType": "DOM",
               "props": {
                "setInnerHtml": "<img src=\"data:image/png;base64,iVBORw0KGgoAAAANSUhEUgAAAlgAAAGQCAYAAAByNR6YAAAABHNCSVQICAgIfAhkiAAAAAlwSFlzAAAPYQAAD2EBqD+naQAAADl0RVh0U29mdHdhcmUAbWF0cGxvdGxpYiB2ZXJzaW9uIDIuMS4xLCBodHRwOi8vbWF0cGxvdGxpYi5vcmcvAOZPmwAAIABJREFUeJzt3X10VPW97/HPTDKZEPIwDoRKCJCGNCT4kIRKSy0FjUvxepVYHb22FQo1CW2cG6vtgrtq29vjceFpVorHtssIXpJVrlZaC0XrE/eAkYpaCkJQ0TCGYwRMMChMQoAkJJn7BzU90QCiv5lfZvJ+rcXC2TuT/c02a3hn7z07jlAoFBIAAACMcdoeAAAAINYQWFGiq6tL119/vXJzc1VQUKArr7xSTU1NtscCAABDILCiSHl5ufbs2aNdu3appKREpaWltkcCAABDcHANVnTavn27fD6fmpubbY8CAAA+Jt72APhsHnjgAZWUlAy57vjx43rttdeUlZWlpKSkgeVut1tutztSIwIAMGIRWFFo2bJlampq0qZNm4Zc39jYqK997WufWL5kyRItXbo03OONaB0dHUpNTbU9xojDfreHfW+H1+u1PQLOgsCKMtXV1Vq3bp02btw46OjUUDZv3qzCwsKBxxzBigxe+Oxgv9vDvgc+icCKIsuXL9djjz2mjRs3yuPxnPXjk5OT+ckSAAALCKwoceDAAf3oRz9Sdna2Lr/8ckmnjkht3brV8mQAAODjCKwokZmZKd7wCQBn1t3drT179qi3t9f2KJ9LfHy8pk6dymUdUYzAAgDEhL1796qwsFCdnZ22RzEiJSVFDQ0Nys7Otj0KPgMCCwAQ9fr7+3Xbbbdp7NixevbZZ8/6JqDh7vjx47r11lv1ve99T88//7ycTu4LHm0ILABA1GttbdXmzZv1+9//XrNmzbI9jhH33Xefvv3tb+vgwYPKyMiwPQ7OEUkMAIh6hw4dkiRNmTLF8iTmfPS1tLW1WZ4EnwWBBQCIev39/ZJOXRweKz76Wj762hBdCCwAACKkublZl112mdLS0gbdCBqxJ3ZSHwAw4vWHpEMnInNLmzGJktPhOKfnpKam6t5771V7e7vuvvvuME2G4YDAAgDEjPbeOI17JDL3wGq7NV7po4ZeV11drUAgoJUrV0qSgsGgcnJyFAgENGvWLL3wwgsRmRH2cIoQAADDSktLtX79egWDQUlSXV2dSkpK+L2NIwiBBQCAYR6PRz6fT7W1tQqFQqqpqZHf77c9FiKIU4QAAIRBZWWl5s2bp/z8fKWnp6uoqMj2SIggAgsAEDPS4vvUdmtk/mkbk3jm9Xl5ecrOzlZ5ebmqqqoiMhOGDwILABAznA4pfdS5vbMvnMrKyuT3++Xz+SSd+hU4ubm56u7uVnt7uzIzMzV//nzdd999lieFaQQWAABhUl9fr4qKCrlcLklSUlKSDhw4YHkqRAKBBQCAYS0tLSouLpbX69WGDRtsjwMLCCwAAAzLyMhQY2Oj7TFgEbdpAAAAMIzAAgAAMIzAAgAAMIzAAgAAMIzAAgAgQp5//nl95Stf0bRp03TBBRdoyZIl6u/vtz0WwoDAAgAgQs477zytWbNGb775pl599VW9/PLLWr16te2xEAbcpgEAEDtC/errDEZkU86kVDmcQx+nqK6uViAQ0MqVKyVJwWBQOTk5CgQC8nq9kqTExEQVFhaqubk5IvMisggsAEDMcHQfV+tPb4nItsbfu0ZxyZ4h15WWlio3N1dVVVXyeDyqq6tTSUnJQFxJ0sGDB/WnP/1JTz31VETmRWRxihAAAMM8Ho98Pp9qa2sVCoVUU1Mjv98/sL6jo0PXXXedlixZoksuucTipAgXjmABABAGlZWVmjdvnvLz85Wenq6ioiJJ0tGjR3X11VerpKREd911l+UpES4cwQIAIAzy8vKUnZ2t8vLygaNXnZ2duvrqq3X11Vfrpz/9qeUJEU4cwQIAxIyQO0nj710TkW05k1LP+jFlZWXy+/3y+XySpAceeEB///vfdezYMa1bt06SdNNNN+nuu+8O66yIPAILABA7HM7TXnhuQ319vSoqKuRyuSRJd999NzE1QhBYAAAY1tLSouLiYnm9Xm3YsMH2OLCAwAIAwLCMjAw1NjbaHgMWcZE7AACAYQQWAACAYQQWAACAYQQWAACAYQQWAACAYQQWAAAR8sorr6iwsFCFhYW64IILtHjxYnV3d9seC2HAbRoAADGjPxRSsKs9IttKdafI6Ti34xQFBQXatm2bXC6X+vv7deONN+rBBx/UnXfeGaYpYQuBBQCIGcf7jqtk7YKIbOuJG1fLk5g25Lrq6moFAgGtXLlSkhQMBpWTk6NAIKCkpCRJUk9Pj06cOCGHwxGReRFZnCIEAMCw0tJSrV+/XsFgUJJUV1enkpISeb1eNTc3q6CgQGPHjlVaWpoqKiosT4twILAAADDM4/HI5/OptrZWoVBINTU18vv9kqSsrCzt2rVLBw8eVHd398AvfUZsIbAAAAiDyspKPfTQQ3ruueeUnp6uoqKiQeuTk5N1yy236NFHH7U0IcKJa7AAADEjKS5JT9y4OiLbSnWnnHF9Xl6esrOzVV5erqqqKklSU1OTJk+eLJfLpZ6eHv35z3/WxRdfHIlxEWEEFgAgZjgdjtNeeG5DWVmZ/H6/fD6fJOn555/Xr3/9a8XFxam3t1dXXHGFfvazn1meEuFAYAEAECb19fWqqKiQy+WSJJWXl6u8vNzyVIgEAgsAAMNaWlpUXFwsr9erDRs22B4HFhBYAAAYlpGRocbGRttjwCLeRQgAAGAYgQUAAGAYgQUAAGAYgQUAAGAYgQUAAGAYgQUAQISFQiEVFxfL4/HYHgVhwm0aAAAxIxSSTnb2RmRb8Ulxcjgdn+m5999/v6ZMmaIdO3YYngrDBYEFAIgd3dLWn78VkU199Z58uZKH/me0urpagUBAK1eulCQFg0Hl5OQoEAiotbVV69evV11dnR5//PGIzIrI4xQhAACGlZaWav369QoGg5Kkuro6lZSUKCUlRWVlZVqxYoXi4uIsT4lwIrAAADDM4/HI5/OptrZWoVBINTU18vv9+pd/+RfdcMMNys/Ptz0iwoxThAAAhEFlZaXmzZun/Px8paenq6ioSJWVldq3b59++9vfqre3Vx0dHcrKytK2bduUnp5ue2QYRGABAGKH+9S1UZEQn3TmU3x5eXnKzs5WeXm5qqqqJEkvvvjiwPrm5mYVFhaqubk5nGPCEgILABAzHA6d9sJzG8rKyuT3++Xz+WyPggjjGiwAAMKkvr5eFRUVcrlcn1iXlZU1cBE8Ys/wyXwAAGJES0uLiouL5fV6tWHDBtvjwAICCwAAwzIyMtTY2Gh7DFjEKUIAAADDCCwAAADDCCwAAADDCCwAAADDCCwAACLkhRde0KhRo1RYWDjw58SJE7bHQhjwLkIAQMwIhfrVffyDiGwrYZRXDse5H6eYOnWqGhoawjARhhMCCwAQM/pPHtVTKy6KyLauXfy63Eljh1xXXV2tQCCglStXSpKCwaBycnIGHiP2cYoQAADDSktLtX79+oE7tdfV1amkpERer1d79+7V9OnTNWPGDD344IOWJ0W4cAQLAADDPB6PfD6famtrdeedd6qmpkZ/+MMfNGXKFB04cEBpaWk6cOCArrnmGo0dO1Y333yz7ZFhGEewAAAIg8rKSj300EN67rnnlJ6erqKiIqWmpiotLU2SlJmZqW9961t68cUXLU+KcOAIFgAgZjhdKbp28esR2VbCKO8Z1+fl5Sk7O1vl5eWqqqqSJLW2tuoLX/iCnE6njh49qqeeekq33XZbJMZFhBFYAICY4XA4T3vhuQ1lZWXy+/3y+XySpLVr16qmpkbx8fHq7e3VTTfdpEWLFlmeEuFAYAEAECb19fWqqKiQy+WSJPn9fvn9fstTIRIILAAADGtpaVFxcbG8Xq82bNhgexxYQGABAGBYRkaGGhsbbY8Bi3gXIQAAgGEEFgAAgGEEFgAAgGEEFgAAgGEEFgAAgGEEFgAAEfT666/rsssuU35+vvLz87Vu3TrbIyEMuE0DACBm9IdCOtTdHZFtjUlIkNPhOKfnHD9+XCUlJVq9erVmzZqlvr4+HT58OEwTwiYCK4pUVlbqySef1LvvvqudO3eqsLDQ9kgAMKy09/dr3JPPRGRbbfOuUbrbPeS66upqBQIBrVy5UpIUDAaVk5OjJUuWaObMmZo1a5YkKS4uTunp6RGZF5HFKcIo4vP5tGXLFk2ePNn2KACAMygtLdX69esVDAYlSXV1dSopKdHBgwfldrt17bXXqrCwUAsWLNChQ4csT4twILCiyOzZs5WZmWl7DADAWXg8Hvl8PtXW1ioUCqmmpkZ+v1+9vb3auHGjVqxYoZ07d2rChAn6wQ9+YHtchAGnCGNYZ2enOjo6Bh673W65T3M4GwBgVmVlpebNm6f8/Hylp6erqKhImzZt0uWXX64JEyZIkm699VbNnTvX8qQIBwIrhs2ZM2fQ4yVLlmjp0qWWphkZjhw5YnuEEYn9bs9w2fft7e2SpDSnU23zronINsckJJxxfV5enrKzs1VeXq6qqipJ0s0336xVq1apo6NDqampeuaZZ1RQUHDGz9Pe3v6JC+G9Xu/nGx5hR2DFsM2bNw+6EJ4jWJHBC58d7Hd7hsO+T0tLkyQ5HY7TXnhuQ1lZmfx+v3w+nyRp0qRJ+slPfqJLL71UTqdTEyZMGLgQ/nTS0tKGxT7GuSGwYlhycrJSU1NtjwEAI1Z9fb0qKirkcrkGls2fP1/z58+3OBUigYvco8jixYuVmZmpAwcOaO7cucrJybE9EgBgCC0tLcrLy9OOHTv0wx/+0PY4sIAjWFFkxYoVtkcAAHwKGRkZamxstD0GLOIIFgAAgGEEFgAAgGEEFgAAgGEEFgAAgGEEFgAAEVJXV6fCwsKBP2PHjtUNN9xgeyyEAe8iBADEjlBI/R0nIrIpR3KiHE7HOT1n0aJFWrRo0cDjCy+8UN/5zndMj4ZhgMACAMQM54leBf/nqohsy/Ob2+RIHTXkuurqagUCgYG7tAeDQeXk5CgQCAzclX3r1q1qa2vTvHnzIjIvIotThAAAGFZaWqr169crGAxKOnVqsKSkZNCvvFm1apXmz58/6C7viB0EFgAAhnk8Hvl8PtXW1ioUCqmmpkZ+v39g/bFjx7RmzRrddtttFqdEOHGKEACAMKisrNS8efOUn5+v9PR0FRUVDax7/PHHdcEFF2jatGkWJ0Q4EVgAgJjRPypent9E5qiQIznxjOvz8vKUnZ2t8vJyVVVVDVq3atUqjl7FOAILABA7HA45T3PhuQ1lZWXy+/3y+XwDy/bs2aOGhgY988wzFidDuBFYAACESX19vSoqKgZdyD516lQdPXrU4lSIBAILAADDWlpaVFxcLK/Xqw0bNtgeBxYQWAAAGJaRkaHGxkbbY8AibtMAAABgGIEFAABgGIEFAABgGIEFAABgGIEFAABgGIEFAECE9Pf366677tK0adN08cUX6/LLL1dTU5PtsRAG3KYBABAzQqF+nTx2OCLbik/yyOE4t+MUTz75pF566SXt2rVLLpdL9957r37yk5/oj3/8Y5imhC0EFgAgdvR0avvymRHZ1CV3/U2u0d4h11VXVysQCGjlypWSpGAwqJycHP3qV79Sd3e3urq6FB8fr46ODmVmZkZkXkQWgQUAgGGlpaXKzc1VVVWVPB6P6urqVFJSovnz52vnzp06//zzlZKSogkTJmjz5s22x0UYcA0WAACGeTwe+Xw+1dbWKhQKqaamRn6/X9u3b9cbb7yh9957Ty0tLbriiiv0/e9/3/a4CAOOYAEAEAaVlZWaN2+e8vPzlZ6erqKiIvn9fhUXF8vj8UiSvvvd7+qqq66yPCnCgcACAMSOhGRdctffIrKp+CTPGdfn5eUpOztb5eXlqqqqkiRlZ2frmWee0Y9//GMlJCToqaee0oUXXhiJcRFhBBYAIGY4HM7TXnhuQ1lZmfx+v3w+nyTp9ttv11tvvaWCggK5XC6df/75euihhyxPiXAgsAAACJP6+npVVFTI5XJJktxutx5++GHLUyESCCwAAAxraWlRcXGxvF6vNmzYYHscWEBgAQBgWEZGhhobG22PAYu4TQMAAIBhBBYAIOrFxcVJknp6eixPYs5HX8tHXxuiC6cIAQBRLysrS4mJibrnnnv085//XAkJCbZH+lx6enp0zz33KDExUVlZWbbHwWdAYAEAol5aWpqeeOIJlZSU6Nlnn7U9jhGJiYl64oknlJaWZnsUfAYEFgAgJlx11VU6ePCgmpub1dfXZ3uczyUuLk5ZWVnEVRQjsAAAMSMtLU0FBQW2xwC4yB0AAMA0AgsAAMAwAgsAAMAwAgtA1DrZH1L1a336Xw1uvXE4ZHscABjARe4AotaSrf369zf6JSXoz+/16u2b4+VxO2yPBQAcwQIQvV56/59HrT7okp7ax1EsAMMDgQUgamUkDX68tY3AAjA8EFgAotZX0gefDvz7IQILwPBAYAGIWl8dNziwGj4MqbuPyAJgH4EFIGpdku7Qf02snn5p14cEFgD7CCwAUSstwaE8z+BlXIcFYDggsABENa7DAjAcEVgAotrHr8MisAAMBwQWgKj2lfTBL2OBdulIN5EFwC4CC0BUu3iM5HaeCqrUvk4pFNI2jmIBsIzAAhDVXE6HCtJ69eD+X+r1xm/rxabF2r23xfZYAEY4AgtA1PP17tB1HVvkVEhZPa3Ke/n/2B4JwAhHYAGIekVpPYMe5x3aoVBPt6VpAIDAAhADCi/KUb/jny9nrv4ede993eJEAEY6AgtA1HMmJStx8tRBy7re2mZpGgAgsADEiMRpMwY97npru6VJAIDAAhAjEvMHB1bvoffUe4h3EwKwg8ACEBNcE6bImTz4FxNymhCALQQWgJjgcDqVmH/JoGWcJgRgC4EFIGZ8IrCadnG7BgBWEFgAYkbi1C9L/+V2DTrZo66m1+wNBGDEIrAAxAzn6BQlZOVp72iH7s+J10NfjFfrm1tsjwVgBIq3PQAAmOTMK9L9qU06kuCQJO3v2KK60B1yOvh5EkDk8IoDIKY4pxYOxJUkNbt7tWX/VosTARiJCCwAMcWbdZEmh5IGLXtk9+MKhUKWJgIwEhFYAGLOgq9/f9DjPYf3avvBXZamATASEVgAYs7lk2dpQsr4Qcse2f24pWkAjEQEFoCYE+eM07en3TBoWcP7b+iNQ29ZmgjASENgAYhJV33xcqWPGjNo2SO711qaBsBIQ2ABiEkJcS79j2nXD1r2ynvb1HTkHUsTARhJCCwAMevanKuU5k4ZtOxRjmIBiAACC0DMGhWfqBunXjfwOK4/Ti+/s00HjrZanArASMCd3AHEtBty/7see3OdLm65WNfuv1a9zl7V62+aP/+btkcDEMM4ggUgpqW4k3V9zjWa+95cOeVUQn+CvrgzR60vfWh7NAAxjMACEPN8udfppPPkoGV717Xog4Z2SxMBiHUEFoCYNzbFq9TixMELQ9KeR/crGOi0MxSAmEZgARgRLr26SJPmjhu0LNQX0lt176pz/wlLUwGIVQQWgBFj4lXjNP7r3kHL+rr7tfvhd3TiULelqQDEIgILwIjhcDiU/c0MjS1IG7T8ZGef3ljxjrrbT57mmQBwbggsACOKw+lQ7ncylfal0YOWdx8+qd0rm9V7os/SZABiCYEFYMRxxjuVv2iykjNHDSwLqU+Hg/+hbQ+vUc8JrskC8PkQWABGpPjEOE0ry1JieoIkKTj252of+69q6fuxnnv4a2pqqFVfb5flKQFEKwILwIiVkBKvC8u/KGdqp3pGbRtYfrLvfe2qv1vP1c7U2ztWqvfkcYtTAohGBBaAES1xTIIuLitQXN8XPrGu69j7em3z/9ZztV/Vnu0PqrfnmIUJAUQjAiuKvP3227r00kuVm5urGTNmaPfu3bZHAmJC8oQkzbrxjxqdMH3I9d3HP9AbL/6rnl01Q41/f0Anu49GeEIA0YbAiiKLFy9WeXm5AoGAli5dqoULF9oeCYgZY7+Yq6tvf1qzb1qr9InfGPJjerqOaPdL/6YnV83Unzf/Rm9+2KqT/f0RnvSUvp5jOvFhszre3aYjgXp1t7damQPA0ByhUChkewicXVtbm3JycnT48GHFx8crFApp/Pjx2rJli3JycgZ97I4dO/TlL39Zr776qqZPH/oncoTH4cOH5fV6z/6BMCoc+/3Dlm16a+v9er+5fvByZ5p+Nu5HaosfK0mKc0iTkpI0ZfRoTUn+x5/RozUlOVnZo5OU4nKddVuhUEjq6VWo+6RC3b3qCb6v7tBBnew+opOdh9TT2aaeo22n/vvoIZ3sbFPfx05XOpzxyvvWw/Jkf93cTvgU+J4HhhZvewB8Ovv379f48eMVH3/qf5nD4dCkSZO0b9++TwTWRzo7O9XR0THw2O12y+12R2ReINqNyZihWd/8vQ4f3KnGrf+u1v/8f5KkLUkzBuJKkvpC0jvHjuudY8e1se3QJz7PpLh4VbzXrUuPnNSXXAlK6g0NhNSpv09K3Self/yoe9izQ4fGvCw5zu3IWKi/V207/xjxwAIwNAIrhs2ZM2fQ4yVLlmjp0qWWphkZjhw5YnuEESms+z1hsvK+cb8mTHtL7772kFI/OLdfDn17wwcqffefR5t6z/Cx/Y5effAZ4uojIfcYHT58+DM997Pie94OjhoOfwRWlJg4caJaW1vV29s7cIpw3759mjRp0mmfs3nzZhUWFg485ghWZPDCZ0e497vX+3VN/tLXdUHbm2p/+T/0RE+6jjpGnfV5lwR7PvU2HKE4OUJxCp1DYMUljJYreZzOm1qsid+4XXHu5E/9XFP4ngc+icCKEuPGjdP06dP1yCOPaOHChVq7dq0yMzNPe3pQkpKTk5WamhrBKYHYN2bcNP3f66dJkg739Ghv57FTf44d03/+4++9ncd04B93g3/m/EQVfsrfceiQQxkH/5vaxryk3oTjSkgdp4Qx45WQMk4JyePkSk7/2H+nKy5h9Nk/MYCII7CiyIoVK7Rw4UItW7ZMqampqqursz0SMKJ5ExLk9SZohve8T6zr6uvTO8eOae/XOrXp9XeV0dapqV6PkpNHyZHgkiPRJYc7Xkp0nXrsPrXsPHe8MhNccjgdFr4iAKYQWFFk6tSpeuWVV2yPAeBTSIyLU35qqvJTU6XMDNvjAIgw7oMFAABgGIEFAABgGIEFAABgGIEFAABgGIEFAABgGIEFAABgGIEFAABgGIEFAABgGIEFAABgGIEFAABgGIEFAABgGIEFAABgGIEFAABgGIEFAABgGIEFAABgGIEFAABgGIEFAABgGIEFAABgGIEFAABgGIEFAABgGIEFAABgGIEFAABgGIEFAABgGIEFAABgGIEFAABgGIEFAABgGIEFAABgGIEFAABgGIEFAABgGIEFAABgGIEFAABgGIEFAABgGIEFAABgGIEFAABgGIEFAABgGIEFAABgGIEFAABgGIEFAABgGIEFAABgGIEFAABgGIEFAABgGIEFAABgGIEFAABgGIEFAABgGIEFAABgGIEFAABgGIEFAABgGIEFAABgGIEFAABgGIEFAABgGIEFAABgGIEFAABgGIEFAABgGIEFAABgGIEFAABgGIEFAABgGIEFAABgGIEFAABgGIEFAABgGIEFAABgGIEFAABgGIEFAABgGIEFAABgGIEFAABgGIEFAABgGIEFAABgGIEFAABgGIEFAABgGIEFAABgGIEFAABgGIEFAABgGIEFAABgGIEFAABgGIEFAABgGIEFAABgGIEFAABgGIEFAABgGIEFAABgGIEFAABgGIEFAABgGIEFAABgGIEFAABgGIEFAABgGIEFAABgGIEFAABgGIEVJSorK5WVlSWHw6GGhgbb4wAAgDMgsKKEz+fTli1bNHnyZNujAACAs4i3PQA+ndmzZ9seAQAAfEoEVgzr7OxUR0fHwGO32y23221xIgAARgYCK4bNmTNn0OMlS5Zo6dKllqYZGY4cOWJ7hBGJ/W4P+94Or9drewScBYE1TK1evVrLly+XJN1xxx1atGjROX+OzZs3q7CwcOAxR7Aigxc+O9jv9rDvgU8isIapBQsWaMGCBZ/rcyQnJys1NdXQRAAA4NPiXYRRYvHixcrMzNSBAwc0d+5c5eTk2B4JAACcBkewosSKFStsjwAAAD4ljmABAAAYRmABAAAYRmABAAAYRmABAAAYRmABAAAYRmABAAAYRmABAAAYRmABAAAYRmABAAAYRmABAAAYRmABAAAYRmABAAAYRmABAAAYRmABAAAYRmABAAAYRmABAAAYRmABAAAYRmABAAAYRmABAAAYRmABAAAYRmABAAAYRmABAAAYRmABAAAYRmABAAAYRmABAAAYRmABAAAYRmABAAAYRmABAAAYRmABAAAYRmABAAAYRmABAAAYRmABAAAYRmABAAAYRmABAAAYRmABAAAYRmABAAAYRmABAAAYRmABAAAYRmABAAAYRmABAAAYRmABAAAYRmABAAAYRmABAAAYRmABAAAYRmABAAAYRmABAAAYRmABAAAYRmABAAAYRmABAAAYRmABAAAYRmABAAAYRmABAAAYRmABAAAYRmABAAAYRmABAAAYRmABAAAYRmABAAAYRmABAAAYRmABAAAYRmABAAAYRmABAAAYRmABAAAYRmABAAAYRmABAAAYRmABAAAYRmABAAAYRmABAAAYRmABAAAYRmABAAAYRmABAAAYRmABAAAYRmABAAAYRmABAAAYRmABAAAYRmABAAAYRmABAAAYRmABAAAYRmABAAAYRmABAAAYRmABAAAYRmABAAAYRmABAAAYRmABAAAYRmABAAAYRmDFoJ6enkF/IzK6u7v1y1/+Ut3d3bZHGVHY7/aw7+3o7u7WL37xC/b7MOcIhUIh20PgzLq6unTLLbfozTff1KhRozRu3DjV1NQoJydnyI//61//qjlz5mjz5s2aPXt2hKcduTo6OpSWlqb29nalpqbaHmfEYL/bw763g/0eHTiCFSXKy8u1Z89vGUmTAAAC+klEQVQe7dq1SyUlJSotLbU9EgAAOA0CKwokJibqmmuukcPhkCTNnDlTzc3NdocCAACnFW97AJy7Bx54QCUlJadd39XVJUnatWvXoOUJCQlKSEgI62wjWWdnpySpoaFBycnJlqcZOdjv9rDv7fhovx8/fpxThMMY12BFmWXLlukvf/mLNm3apKSkpCE/5ne/+50WLlwY2cEAABH1yiuvaObMmbbHwGkQWMPU6tWrtXz5cknSHXfcoUWLFqm6ulpr1qzRxo0b5fF4TvvcDz74QE8//bTGjx+vxMTEgeUcwQKA2JGXl3faH7RhH4EVJZYvX65HH31UGzdu1HnnnWd7HAAAcAYEVhQ4cOCAJk6cqOzsbKWkpEiS3G63tm7dankyAAAwFAILAADAMG7TEGO6urp0/fXXKzc3VwUFBbryyivV1NRke6wRobKyUllZWXI4HGpoaLA9zojw9ttv69JLL1Vubq5mzJih3bt32x5pROB73Q5e36MLgRWDuCmpHT6fT1u2bNHkyZNtjzJiLF68WOXl5QoEAlq6dCnvno0Qvtft4fU9ehBYMYabktoze/ZsZWZm2h5jxGhra9P27dt16623SpJuvPFG7d+/n5/oI4DvdTt4fY8uBFaMO9tNSYFotX//fo0fP17x8aful+xwODRp0iTt27fP8mRAZPD6PrxxJ/cYtmzZMjU1NWnTpk22RwEAGMTr+/DHEawYsHr1ahUWFqqwsFB1dXWSpOrqaq1bt07PPvssN6ILk6H2OyJn4sSJam1tVW9vryQpFApp3759mjRpkuXJgPDi9T06cAQrBixYsEALFiwYeLx8+XI99thjZ73jOz6fj+93RNa4ceM0ffp0PfLII1q4cKHWrl2rzMxM5eTk2B4NCBte36MH98GKMdyU1J7Fixfr6aef1sGDBzVmzBilpKRwwXWY7dmzRwsXLtSHH36o1NRU1dXV6aKLLrI9Vszje90OXt+jC4EFAABgGNdgAQAAGEZgAQAAGEZgAQAAGPb/AS/CzMGkCrExAAAAAElFTkSuQmCC\" />"
               },
               "type": "node"
              }
             ],
             "instanceArgs": {
              "namespace": "html",
              "tag": "div"
             },
             "nodeType": "DOM",
             "props": {
              "className": "interact-flex-row interact-widget"
             },
             "type": "node"
            }
           }
          },
          "systemjs_options": null
         },
         "nodeType": "Scope",
         "props": {},
         "type": "node"
        }
       ],
       "instanceArgs": {
        "namespace": "html",
        "tag": "div"
       },
       "nodeType": "DOM",
       "props": {},
       "type": "node"
      },
      "text/html": [
       "<div\n",
       "    class=\"webio-mountpoint\"\n",
       "    data-webio-mountpoint=\"18073521573753524404\"\n",
       ">\n",
       "    <script>\n",
       "    if (window.require && require.defined && require.defined(\"nbextensions/webio/main\")) {\n",
       "        console.log(\"Jupyter WebIO extension detected, not mounting.\");\n",
       "    } else if (window.WebIO) {\n",
       "        WebIO.mount(\n",
       "            document.querySelector('[data-webio-mountpoint=\"18073521573753524404\"]'),\n",
       "            {\"props\":{},\"nodeType\":\"DOM\",\"type\":\"node\",\"instanceArgs\":{\"namespace\":\"html\",\"tag\":\"div\"},\"children\":[{\"props\":{\"className\":\"field interact-widget\"},\"nodeType\":\"DOM\",\"type\":\"node\",\"instanceArgs\":{\"namespace\":\"html\",\"tag\":\"div\"},\"children\":[{\"props\":{},\"nodeType\":\"Scope\",\"type\":\"node\",\"instanceArgs\":{\"imports\":{\"data\":[{\"name\":\"knockout\",\"type\":\"js\",\"url\":\"\\/assetserver\\/600110e09ffe769758f2864ead1f85caa4cef122-knockout.js\"},{\"name\":\"knockout_punches\",\"type\":\"js\",\"url\":\"\\/assetserver\\/6fcbda53a52cb7ee30cfe18a87733057b21d10d7-knockout_punches.js\"},{\"name\":null,\"type\":\"js\",\"url\":\"\\/assetserver\\/21c387f0947cafe2b5b49c6aaeceb5c6cdcef9eb-all.js\"},{\"name\":null,\"type\":\"css\",\"url\":\"\\/assetserver\\/755fb0d978e2e71d31238e558297f41115139d7b-style.css\"},{\"name\":null,\"type\":\"css\",\"url\":\"\\/assetserver\\/ea2ac5b5cceb260c54d800179abf36ccca05eed1-bulma_confined.min.css\"}],\"type\":\"async_block\"},\"id\":\"knockout-component-bc685925-8461-46b6-b81d-9d8fa971e2db\",\"handlers\":{\"changes\":[\"(function (val){return (val!=this.model[\\\"changes\\\"]()) ? (this.valueFromJulia[\\\"changes\\\"]=true, this.model[\\\"changes\\\"](val)) : undefined})\"],\"index\":[\"(function (val){return (val!=this.model[\\\"index\\\"]()) ? (this.valueFromJulia[\\\"index\\\"]=true, this.model[\\\"index\\\"](val)) : undefined})\"]},\"systemjs_options\":null,\"mount_callbacks\":[\"function () {\\n    var handler = (function (ko, koPunches) {\\n    ko.punches.enableAll();\\n    ko.bindingHandlers.numericValue = {\\n        init : function(element, valueAccessor, allBindings, data, context) {\\n            var stringified = ko.observable(ko.unwrap(valueAccessor()));\\n            stringified.subscribe(function(value) {\\n                var val = parseFloat(value);\\n                if (!isNaN(val)) {\\n                    valueAccessor()(val);\\n                }\\n            })\\n            valueAccessor().subscribe(function(value) {\\n                var str = JSON.stringify(value);\\n                if ((str == \\\"0\\\") && ([\\\"-0\\\", \\\"-0.\\\"].indexOf(stringified()) >= 0))\\n                     return;\\n                 if ([\\\"null\\\", \\\"\\\"].indexOf(str) >= 0)\\n                     return;\\n                stringified(str);\\n            })\\n            ko.applyBindingsToNode(element, { value: stringified, valueUpdate: allBindings.get('valueUpdate')}, context);\\n        }\\n    };\\n    var json_data = {\\\"formatted_vals\\\":[\\\"1\\\",\\\"104\\\",\\\"207\\\",\\\"310\\\",\\\"413\\\",\\\"516\\\",\\\"619\\\",\\\"722\\\",\\\"825\\\",\\\"928\\\",\\\"1031\\\",\\\"1134\\\",\\\"1237\\\",\\\"1340\\\",\\\"1443\\\",\\\"1546\\\",\\\"1649\\\",\\\"1752\\\",\\\"1855\\\",\\\"1958\\\",\\\"2061\\\",\\\"2164\\\",\\\"2267\\\",\\\"2370\\\",\\\"2473\\\",\\\"2576\\\",\\\"2679\\\",\\\"2782\\\",\\\"2885\\\",\\\"2988\\\",\\\"3091\\\",\\\"3194\\\",\\\"3297\\\",\\\"3400\\\",\\\"3503\\\",\\\"3606\\\",\\\"3709\\\",\\\"3812\\\",\\\"3915\\\",\\\"4018\\\",\\\"4121\\\",\\\"4224\\\",\\\"4327\\\",\\\"4430\\\",\\\"4533\\\",\\\"4636\\\",\\\"4739\\\",\\\"4842\\\",\\\"4945\\\",\\\"5048\\\",\\\"5151\\\"],\\\"changes\\\":WebIO.getval({\\\"name\\\":\\\"changes\\\",\\\"scope\\\":\\\"knockout-component-bc685925-8461-46b6-b81d-9d8fa971e2db\\\",\\\"id\\\":\\\"ob_02\\\",\\\"type\\\":\\\"observable\\\"}),\\\"index\\\":WebIO.getval({\\\"name\\\":\\\"index\\\",\\\"scope\\\":\\\"knockout-component-bc685925-8461-46b6-b81d-9d8fa971e2db\\\",\\\"id\\\":\\\"ob_01\\\",\\\"type\\\":\\\"observable\\\"})};\\n    var self = this;\\n    function AppViewModel() {\\n        for (var key in json_data) {\\n            var el = json_data[key];\\n            this[key] = Array.isArray(el) ? ko.observableArray(el) : ko.observable(el);\\n        }\\n        \\n        [this[\\\"formatted_val\\\"]=ko.computed(    function(){\\n        return this.formatted_vals()[parseInt(this.index())-1];\\n    }\\n,this)]\\n        [this[\\\"changes\\\"].subscribe((function (val){!(this.valueFromJulia[\\\"changes\\\"]) ? (WebIO.setval({\\\"name\\\":\\\"changes\\\",\\\"scope\\\":\\\"knockout-component-bc685925-8461-46b6-b81d-9d8fa971e2db\\\",\\\"id\\\":\\\"ob_02\\\",\\\"type\\\":\\\"observable\\\"},val)) : undefined; return this.valueFromJulia[\\\"changes\\\"]=false}),self),this[\\\"index\\\"].subscribe((function (val){!(this.valueFromJulia[\\\"index\\\"]) ? (WebIO.setval({\\\"name\\\":\\\"index\\\",\\\"scope\\\":\\\"knockout-component-bc685925-8461-46b6-b81d-9d8fa971e2db\\\",\\\"id\\\":\\\"ob_01\\\",\\\"type\\\":\\\"observable\\\"},val)) : undefined; return this.valueFromJulia[\\\"index\\\"]=false}),self)]\\n        \\n    }\\n    self.model = new AppViewModel();\\n    self.valueFromJulia = {};\\n    for (var key in json_data) {\\n        self.valueFromJulia[key] = false;\\n    }\\n    ko.applyBindings(self.model, self.dom);\\n}\\n);\\n    (WebIO.importBlock({\\\"data\\\":[{\\\"name\\\":\\\"knockout\\\",\\\"type\\\":\\\"js\\\",\\\"url\\\":\\\"\\/assetserver\\/600110e09ffe769758f2864ead1f85caa4cef122-knockout.js\\\"},{\\\"name\\\":\\\"knockout_punches\\\",\\\"type\\\":\\\"js\\\",\\\"url\\\":\\\"\\/assetserver\\/6fcbda53a52cb7ee30cfe18a87733057b21d10d7-knockout_punches.js\\\"}],\\\"type\\\":\\\"async_block\\\"})).then((imports) => handler.apply(this, imports));\\n}\\n\"],\"observables\":{\"changes\":{\"sync\":false,\"id\":\"ob_02\",\"value\":0},\"index\":{\"sync\":true,\"id\":\"ob_01\",\"value\":2576}}},\"children\":[{\"props\":{\"className\":\"interact-flex-row interact-widget\"},\"nodeType\":\"DOM\",\"type\":\"node\",\"instanceArgs\":{\"namespace\":\"html\",\"tag\":\"div\"},\"children\":[{\"props\":{\"className\":\"interact-flex-row-left\"},\"nodeType\":\"DOM\",\"type\":\"node\",\"instanceArgs\":{\"namespace\":\"html\",\"tag\":\"div\"},\"children\":[{\"props\":{\"className\":\"interact \",\"style\":{\"padding\":\"5px 10px 0px 10px\"}},\"nodeType\":\"DOM\",\"type\":\"node\",\"instanceArgs\":{\"namespace\":\"html\",\"tag\":\"label\"},\"children\":[\"i\"]}]},{\"props\":{\"className\":\"interact-flex-row-center\"},\"nodeType\":\"DOM\",\"type\":\"node\",\"instanceArgs\":{\"namespace\":\"html\",\"tag\":\"div\"},\"children\":[{\"props\":{\"max\":5151,\"min\":1,\"attributes\":{\"type\":\"range\",\"data-bind\":\"numericValue: index, valueUpdate: 'input', event: {change: function (){this.changes(this.changes()+1)}}\",\"orient\":\"horizontal\"},\"step\":103,\"className\":\"slider slider is-fullwidth\",\"style\":{}},\"nodeType\":\"DOM\",\"type\":\"node\",\"instanceArgs\":{\"namespace\":\"html\",\"tag\":\"input\"},\"children\":[]}]},{\"props\":{\"className\":\"interact-flex-row-right\"},\"nodeType\":\"DOM\",\"type\":\"node\",\"instanceArgs\":{\"namespace\":\"html\",\"tag\":\"div\"},\"children\":[{\"props\":{\"attributes\":{\"data-bind\":\"text: formatted_val\"}},\"nodeType\":\"DOM\",\"type\":\"node\",\"instanceArgs\":{\"namespace\":\"html\",\"tag\":\"p\"},\"children\":[]}]}]}]}]},{\"props\":{},\"nodeType\":\"Scope\",\"type\":\"node\",\"instanceArgs\":{\"imports\":{\"data\":[],\"type\":\"async_block\"},\"id\":\"scope-afc13135-5234-4a2d-a88d-b172c12f9701\",\"handlers\":{},\"systemjs_options\":null,\"mount_callbacks\":[],\"observables\":{\"obs-node\":{\"sync\":false,\"id\":\"ob_06\",\"value\":{\"props\":{\"className\":\"interact-flex-row interact-widget\"},\"nodeType\":\"DOM\",\"type\":\"node\",\"instanceArgs\":{\"namespace\":\"html\",\"tag\":\"div\"},\"children\":[{\"props\":{\"setInnerHtml\":\"<img src=\\\"data:image\\/png;base64,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\\\" \\/>\"},\"nodeType\":\"DOM\",\"type\":\"node\",\"instanceArgs\":{\"namespace\":\"html\",\"tag\":\"div\"},\"children\":[]}]}}}},\"children\":[{\"props\":{},\"nodeType\":\"ObservableNode\",\"type\":\"node\",\"instanceArgs\":{\"id\":\"ob_06\",\"name\":\"obs-node\"},\"children\":[]}]}]},\n",
       "            window,\n",
       "        );\n",
       "    } else {\n",
       "        document\n",
       "            .querySelector('[data-webio-mountpoint=\"18073521573753524404\"]')\n",
       "            .innerHTML = '<strong>WebIO not detected.</strong>';\n",
       "    }\n",
       "    </script>\n",
       "</div>\n"
      ],
      "text/plain": [
       "Node{WebIO.DOM}(WebIO.DOM(:html, :div), Any[Node{DOM}(DOM(:html, :div), Any[Scope(\"knockout-component-bc685925-8461-46b6-b81d-9d8fa971e2db\", Node{DOM}(DOM(:html, :div), Any[Node{DOM}(DOM(:html, :div), Any[Node{DOM}(DOM(:html, :label), Any[\"i\"], Dict{Symbol,Any}(:className=>\"interact \",:style=>Dict{Any,Any}(:padding=>\"5px 10px 0px 10px\")), 1)], Dict{Symbol,Any}(:className=>\"interact-flex-row-left\"), 2), Node{DOM}(DOM(:html, :div), Any[Node{DOM}(DOM(:html, :input), Any[], Dict{Symbol,Any}(:max=>5151,:min=>1,:attributes=>Dict{Any,Any}(:type=>\"range\",Symbol(\"data-bind\")=>\"numericValue: index, valueUpdate: 'input', event: {change: function (){this.changes(this.changes()+1)}}\",\"orient\"=>\"horizontal\"),:step=>103,:className=>\"slider slider is-fullwidth\",:style=>Dict{Any,Any}()), 0)], Dict{Symbol,Any}(:className=>\"interact-flex-row-center\"), 1), Node{DOM}(DOM(:html, :div), Any[Node{DOM}(DOM(:html, :p), Any[], Dict{Symbol,Any}(:attributes=>Dict(\"data-bind\"=>\"text: formatted_val\")), 0)], Dict{Symbol,Any}(:className=>\"interact-flex-row-right\"), 1)], Dict{Symbol,Any}(:className=>\"interact-flex-row interact-widget\"), 7), Dict{String,Tuple{Observables.AbstractObservable,Union{Nothing, Bool}}}(\"changes\"=>(Observable{Int64} with 1 listeners. Value:\n",
       "0, nothing),\"index\"=>(Observable{Int64} with 2 listeners. Value:\n",
       "2576, nothing)), Set(String[]), nothing, Asset[Asset(\"js\", \"knockout\", \"/home/fs/.julia/packages/Knockout/JE2Yq/src/../assets/knockout.js\"), Asset(\"js\", \"knockout_punches\", \"/home/fs/.julia/packages/Knockout/JE2Yq/src/../assets/knockout_punches.js\"), Asset(\"js\", nothing, \"/home/fs/.julia/packages/InteractBase/R8JgH/src/../assets/all.js\"), Asset(\"css\", nothing, \"/home/fs/.julia/packages/InteractBase/R8JgH/src/../assets/style.css\"), Asset(\"css\", nothing, \"/home/fs/.julia/packages/Interact/0klKX/src/../assets/bulma_confined.min.css\")], Dict{Any,Any}(\"changes\"=>Any[JSString(\"(function (val){return (val!=this.model[\\\"changes\\\"]()) ? (this.valueFromJulia[\\\"changes\\\"]=true, this.model[\\\"changes\\\"](val)) : undefined})\")],\"index\"=>Any[JSString(\"(function (val){return (val!=this.model[\\\"index\\\"]()) ? (this.valueFromJulia[\\\"index\\\"]=true, this.model[\\\"index\\\"](val)) : undefined})\")]), ConnectionPool(Channel{Any}(sz_max:9223372036854775807,sz_curr:0), Set(AbstractConnection[]), Channel{AbstractConnection}(sz_max:32,sz_curr:0)), WebIO.JSString[JSString(\"function () {\\n    var handler = (function (ko, koPunches) {\\n    ko.punches.enableAll();\\n    ko.bindingHandlers.numericValue = {\\n        init : function(element, valueAccessor, allBindings, data, context) {\\n            var stringified = ko.observable(ko.unwrap(valueAccessor()));\\n            stringified.subscribe(function(value) {\\n                var val = parseFloat(value);\\n                if (!isNaN(val)) {\\n                    valueAccessor()(val);\\n                }\\n            })\\n            valueAccessor().subscribe(function(value) {\\n                var str = JSON.stringify(value);\\n                if ((str == \\\"0\\\") && ([\\\"-0\\\", \\\"-0.\\\"].indexOf(stringified()) >= 0))\\n                     return;\\n                 if ([\\\"null\\\", \\\"\\\"].indexOf(str) >= 0)\\n                     return;\\n                stringified(str);\\n            })\\n            ko.applyBindingsToNode(element, { value: stringified, valueUpdate: allBindings.get('valueUpdate')}, context);\\n        }\\n    };\\n    var json_data = {\\\"formatted_vals\\\":[\\\"1\\\",\\\"104\\\",\\\"207\\\",\\\"310\\\",\\\"413\\\",\\\"516\\\",\\\"619\\\",\\\"722\\\",\\\"825\\\",\\\"928\\\",\\\"1031\\\",\\\"1134\\\",\\\"1237\\\",\\\"1340\\\",\\\"1443\\\",\\\"1546\\\",\\\"1649\\\",\\\"1752\\\",\\\"1855\\\",\\\"1958\\\",\\\"2061\\\",\\\"2164\\\",\\\"2267\\\",\\\"2370\\\",\\\"2473\\\",\\\"2576\\\",\\\"2679\\\",\\\"2782\\\",\\\"2885\\\",\\\"2988\\\",\\\"3091\\\",\\\"3194\\\",\\\"3297\\\",\\\"3400\\\",\\\"3503\\\",\\\"3606\\\",\\\"3709\\\",\\\"3812\\\",\\\"3915\\\",\\\"4018\\\",\\\"4121\\\",\\\"4224\\\",\\\"4327\\\",\\\"4430\\\",\\\"4533\\\",\\\"4636\\\",\\\"4739\\\",\\\"4842\\\",\\\"4945\\\",\\\"5048\\\",\\\"5151\\\"],\\\"changes\\\":WebIO.getval({\\\"name\\\":\\\"changes\\\",\\\"scope\\\":\\\"knockout-component-bc685925-8461-46b6-b81d-9d8fa971e2db\\\",\\\"id\\\":\\\"ob_02\\\",\\\"type\\\":\\\"observable\\\"}),\\\"index\\\":WebIO.getval({\\\"name\\\":\\\"index\\\",\\\"scope\\\":\\\"knockout-component-bc685925-8461-46b6-b81d-9d8fa971e2db\\\",\\\"id\\\":\\\"ob_01\\\",\\\"type\\\":\\\"observable\\\"})};\\n    var self = this;\\n    function AppViewModel() {\\n        for (var key in json_data) {\\n            var el = json_data[key];\\n            this[key] = Array.isArray(el) ? ko.observableArray(el) : ko.observable(el);\\n        }\\n        \\n        [this[\\\"formatted_val\\\"]=ko.computed(    function(){\\n        return this.formatted_vals()[parseInt(this.index())-1];\\n    }\\n,this)]\\n        [this[\\\"changes\\\"].subscribe((function (val){!(this.valueFromJulia[\\\"changes\\\"]) ? (WebIO.setval({\\\"name\\\":\\\"changes\\\",\\\"scope\\\":\\\"knockout-component-bc685925-8461-46b6-b81d-9d8fa971e2db\\\",\\\"id\\\":\\\"ob_02\\\",\\\"type\\\":\\\"observable\\\"},val)) : undefined; return this.valueFromJulia[\\\"changes\\\"]=false}),self),this[\\\"index\\\"].subscribe((function (val){!(this.valueFromJulia[\\\"index\\\"]) ? (WebIO.setval({\\\"name\\\":\\\"index\\\",\\\"scope\\\":\\\"knockout-component-bc685925-8461-46b6-b81d-9d8fa971e2db\\\",\\\"id\\\":\\\"ob_01\\\",\\\"type\\\":\\\"observable\\\"},val)) : undefined; return this.valueFromJulia[\\\"index\\\"]=false}),self)]\\n        \\n    }\\n    self.model = new AppViewModel();\\n    self.valueFromJulia = {};\\n    for (var key in json_data) {\\n        self.valueFromJulia[key] = false;\\n    }\\n    ko.applyBindings(self.model, self.dom);\\n}\\n);\\n    (WebIO.importBlock({\\\"data\\\":[{\\\"name\\\":\\\"knockout\\\",\\\"type\\\":\\\"js\\\",\\\"url\\\":\\\"/assetserver/600110e09ffe769758f2864ead1f85caa4cef122-knockout.js\\\"},{\\\"name\\\":\\\"knockout_punches\\\",\\\"type\\\":\\\"js\\\",\\\"url\\\":\\\"/assetserver/6fcbda53a52cb7ee30cfe18a87733057b21d10d7-knockout_punches.js\\\"}],\\\"type\\\":\\\"async_block\\\"})).then((imports) => handler.apply(this, imports));\\n}\\n\")])], Dict{Symbol,Any}(:className=>\"field interact-widget\"), 1), Observable{Any} with 0 listeners. Value:\n",
       "Node{DOM}(DOM(:html, :div), Any[Plot{Plots.PyPlotBackend() n=8}], Dict{Symbol,Any}(:className=>\"interact-flex-row interact-widget\"), 1)], Dict{Symbol,Any}(), 2)"
      ]
     },
     "execution_count": 11,
     "metadata": {
      "application/vnd.webio.node+json": {
       "kernelId": "c0872c5f-ff20-4628-badd-9102af156ee0"
      }
     },
     "output_type": "execute_result"
    }
   ],
   "source": [
    "freq = round(Int,idx/plot_number)\n",
    "camera_view = (45,45)\n",
    "\n",
    "if system.ndim == 2\n",
    "    @manipulate for i = 1:freq:length(t_reg)\n",
    "        p = plot()        \n",
    "        for j in 1:system.nbody\n",
    "            plot!(vs_total[i][j][1],vs_total[i][j][2], linewidth=3)            \n",
    "        end    \n",
    "        plot!(xlims=(-2,2), ylims=(-2,2), aspect_ratio=:equal)        \n",
    "    end\n",
    "elseif system.ndim == 3\n",
    "    @manipulate for i = 1:freq:length(t_reg)\n",
    "        h = [1:bodys[1].nverts;1]\n",
    "        p = plot()\n",
    "        for j in 2:system.nbody\n",
    "            plot!(vs_total[i][j][1],vs_total[i][j][2],vs_total[i][j][3], linewidth=3)\n",
    "        end    \n",
    "        plot!(xlims=(-2,2), ylims=(-2,2), zlims=(-2,2), aspect_ratio=:equal, camera = camera_view)     \n",
    "    end\n",
    "end"
   ]
  },
  {
   "cell_type": "markdown",
   "metadata": {},
   "source": [
    "### Make gif"
   ]
  },
  {
   "cell_type": "code",
   "execution_count": 12,
   "metadata": {},
   "outputs": [],
   "source": [
    "# Total number of seconds of this gif\n",
    "gif_time = 8;"
   ]
  },
  {
   "cell_type": "code",
   "execution_count": 13,
   "metadata": {},
   "outputs": [
    {
     "data": {
      "image/png": "[encoded data removed]",
      "text/plain": [
       "PyPlot.Figure(PyObject <matplotlib.figure.Figure object at 0x7feec4a22438>)"
      ]
     },
     "metadata": {},
     "output_type": "display_data"
    },
    {
     "name": "stderr",
     "output_type": "stream",
     "text": [
      "┌ Info: Saved animation to \n",
      "│   fn = /mnt/g/Research/Dyn3d.jl/notebook/2dFall.gif\n",
      "└ @ Plots /home/fs/.julia/packages/Plots/oiirH/src/animation.jl:90\n"
     ]
    },
    {
     "data": {
      "text/html": [
       "<img src=\"2dFall.gif\" />"
      ],
      "text/plain": [
       "Plots.AnimatedGif(\"/mnt/g/Research/Dyn3d.jl/notebook/2dFall.gif\")"
      ]
     },
     "execution_count": 13,
     "metadata": {},
     "output_type": "execute_result"
    }
   ],
   "source": [
    "freq = round(Int,idx/30/gif_time)\n",
    "camera_view = (45,45)\n",
    "\n",
    "if system.ndim == 2\n",
    "    anim = @animate for i = 1:freq:length(t_reg)\n",
    "        p = plot()        \n",
    "        for j in 1:system.nbody\n",
    "            plot!(vs_total[i][j][1],vs_total[i][j][2], linewidth=3)            \n",
    "        end    \n",
    "        plot!(xlims=(-2,2), ylims=(-2,2), aspect_ratio=:equal)        \n",
    "    end        \n",
    "elseif system.ndim == 3 \n",
    "    anim = @animate for i = 1:freq:length(t_reg)\n",
    "        h = [1:bodys[1].nverts;1]\n",
    "        p = plot()\n",
    "        for j in 2:system.nbody\n",
    "            plot!(vs_total[i][j][1],vs_total[i][j][2],vs_total[i][j][3], linewidth=3)\n",
    "        end    \n",
    "        plot!(xlims=(-2,2), ylims=(-2,2), zlims=(-2,2), aspect_ratio=:equal, camera = camera_view)\n",
    "    end    \n",
    "end\n",
    "nothing\n",
    "gif(anim, casename*\".gif\", fps = 30)"
   ]
  },
  {
   "cell_type": "code",
   "execution_count": null,
   "metadata": {},
   "outputs": [],
   "source": []
  }
 ],
 "metadata": {
  "@webio": {
   "lastCommId": "0649451D1B2C4DA084E2840D96A9C4C1",
   "lastKernelId": "c0872c5f-ff20-4628-badd-9102af156ee0"
  },
  "kernelspec": {
   "display_name": "Julia 1.1.0",
   "language": "julia",
   "name": "julia-1.1"
  },
  "language_info": {
   "file_extension": ".jl",
   "mimetype": "application/julia",
   "name": "julia",
   "version": "1.1.0"
  }
 },
 "nbformat": 4,
 "nbformat_minor": 2
}
