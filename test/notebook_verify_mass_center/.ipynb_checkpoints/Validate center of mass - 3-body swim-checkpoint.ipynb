{
 "cells": [
  {
   "cell_type": "code",
   "execution_count": 1,
   "metadata": {},
   "outputs": [],
   "source": [
    "casename = \"Validate center of mass - 3-body swim\";"
   ]
  },
  {
   "cell_type": "markdown",
   "metadata": {},
   "source": [
    "### Include Dyn3d and config files"
   ]
  },
  {
   "cell_type": "code",
   "execution_count": 2,
   "metadata": {
    "scrolled": false
   },
   "outputs": [
    {
     "name": "stderr",
     "output_type": "stream",
     "text": [
      "┌ Info: Recompiling stale cache file /home/fs/.julia/compiled/v1.1/Dyn3d/wjQXj.ji for Dyn3d [d8047ffa-7f43-11e9-2204-adfbb6974ec5]\n",
      "└ @ Base loading.jl:1184\n"
     ]
    },
    {
     "data": {
      "text/html": [
       "<script>\n",
       "// Immediately-invoked-function-expression to avoid global variables.\n",
       "(function() {\n",
       "    var warning_div = document.getElementById(\"webio-warning-7250137671489496761\");\n",
       "    var hide = function () {\n",
       "        var script = document.getElementById(\"webio-setup-14800616137705701581\");\n",
       "        var parent = script && script.parentElement;\n",
       "        var grandparent = parent && parent.parentElement;\n",
       "        if (grandparent) {\n",
       "            grandparent.style.display = \"none\";\n",
       "        }\n",
       "        warning_div.style.display = \"none\";\n",
       "    };\n",
       "    if (typeof Jupyter !== \"undefined\") {\n",
       "        console.log(\"WebIO detected Jupyter notebook environment.\");\n",
       "        // Jupyter notebook.\n",
       "        var extensions = (\n",
       "            Jupyter\n",
       "            && Jupyter.notebook.config.data\n",
       "            && Jupyter.notebook.config.data.load_extensions\n",
       "        );\n",
       "        if (extensions && extensions[\"webio/main\"]) {\n",
       "            // Extension already loaded.\n",
       "            console.log(\"Jupyter WebIO nbextension detected; not loading ad-hoc.\");\n",
       "            hide();\n",
       "            return;\n",
       "        }\n",
       "        console.warn(\"Loading WebIO Jupyter extension on an ad-hoc basis. Consider enabling the WebIO nbextension for a stabler experience (this should happen automatically when building WebIO).\");\n",
       "        require([\"/assetserver/683a7301d38db30e6ed147bab5e3d38a784973f9-dist/main.js\"], function (webIOModule) {\n",
       "            webIOModule.load_ipython_extension();\n",
       "        });\n",
       "        warning_div.innerHTML = \"<strong>Loading WebIO Jupyter extension on an ad-hoc basis. Consider enabling the WebIO nbextension for a stabler experience (this should happen automatically when building WebIO).</strong>\";\n",
       "    } else if (window.location.pathname.includes(\"/lab\")) {\n",
       "        // Guessing JupyterLa\n",
       "        console.log(\"Jupyter Lab detected; make sure the @webio/jupyter-lab-provider labextension is installed.\");\n",
       "        hide();\n",
       "        return;\n",
       "    }\n",
       "})();\n",
       "\n",
       "</script>\n",
       "<div\n",
       "    id=\"webio-warning-7250137671489496761\"\n",
       "    class=\"output_text output_stderr\"\n",
       "    style=\"padding: 1em; font-weight: bold;\"\n",
       ">\n",
       "    Unable to load WebIO. Please make sure WebIO works for your Jupyter client.\n",
       "    <!-- TODO: link to installation docs. -->\n",
       "</div>\n"
      ],
      "text/plain": [
       "HTML{String}(\"<script>\\n// Immediately-invoked-function-expression to avoid global variables.\\n(function() {\\n    var warning_div = document.getElementById(\\\"webio-warning-7250137671489496761\\\");\\n    var hide = function () {\\n        var script = document.getElementById(\\\"webio-setup-14800616137705701581\\\");\\n        var parent = script && script.parentElement;\\n        var grandparent = parent && parent.parentElement;\\n        if (grandparent) {\\n            grandparent.style.display = \\\"none\\\";\\n        }\\n        warning_div.style.display = \\\"none\\\";\\n    };\\n    if (typeof Jupyter !== \\\"undefined\\\") {\\n        console.log(\\\"WebIO detected Jupyter notebook environment.\\\");\\n        // Jupyter notebook.\\n        var extensions = (\\n            Jupyter\\n            && Jupyter.notebook.config.data\\n            && Jupyter.notebook.config.data.load_extensions\\n        );\\n        if (extensions && extensions[\\\"webio/main\\\"]) {\\n            // Extension already loaded.\\n            console.log(\\\"Jupyter WebIO nbextension detected; not loading ad-hoc.\\\");\\n            hide();\\n            return;\\n        }\\n        console.warn(\\\"Loading WebIO Jupyter extension on an ad-hoc basis. Consider enabling the WebIO nbextension for a stabler experience (this should happen automatically when building WebIO).\\\");\\n        require([\\\"/assetserver/683a7301d38db30e6ed147bab5e3d38a784973f9-dist/main.js\\\"], function (webIOModule) {\\n            webIOModule.load_ipython_extension();\\n        });\\n        warning_div.innerHTML = \\\"<strong>Loading WebIO Jupyter extension on an ad-hoc basis. Consider enabling the WebIO nbextension for a stabler experience (this should happen automatically when building WebIO).</strong>\\\";\\n    } else if (window.location.pathname.includes(\\\"/lab\\\")) {\\n        // Guessing JupyterLa\\n        console.log(\\\"Jupyter Lab detected; make sure the @webio/jupyter-lab-provider labextension is installed.\\\");\\n        hide();\\n        return;\\n    }\\n})();\\n\\n</script>\\n<div\\n    id=\\\"webio-warning-7250137671489496761\\\"\\n    class=\\\"output_text output_stderr\\\"\\n    style=\\\"padding: 1em; font-weight: bold;\\\"\\n>\\n    Unable to load WebIO. Please make sure WebIO works for your Jupyter client.\\n    <!-- TODO: link to installation docs. -->\\n</div>\\n\")"
      ]
     },
     "metadata": {},
     "output_type": "display_data"
    },
    {
     "data": {
      "text/plain": [
       "Plots.PyPlotBackend()"
      ]
     },
     "execution_count": 2,
     "metadata": {},
     "output_type": "execute_result"
    }
   ],
   "source": [
    "using Pkg\n",
    "Pkg.activate(\"../..\")\n",
    "\n",
    "using Revise\n",
    "using Dyn3d\n",
    "using Interact, Reactive\n",
    "using Plots\n",
    "pyplot()"
   ]
  },
  {
   "cell_type": "code",
   "execution_count": 3,
   "metadata": {},
   "outputs": [],
   "source": [
    "# problem dimension\n",
    "ndim = 2\n",
    "# numerical params\n",
    "tf = 20\n",
    "dt = 5e-3\n",
    "scheme = \"Liska\"\n",
    "st = 5\n",
    "tol = 1e-4\n",
    "num_params = NumParams(tf, dt, scheme, st, tol)\n",
    "# gravity\n",
    "gravity = [0., 0., 0.]\n",
    "\n",
    "# set up system config info\n",
    "config_system = ConfigSystem(ndim, gravity, num_params)\n",
    "\n",
    "# set up bodys\n",
    "nbody = 3\n",
    "config_body = ConfigBody(nbody, 4, [0. 0.; 1. 0.; 1. 1.0; 0. 1.0], 1.0)\n",
    "config_bodys = fill(config_body, nbody)\n",
    "\n",
    "# set up joints\n",
    "njoint = nbody\n",
    "config_joints = Vector{ConfigJoint}(undef,njoint)\n",
    "gap = 0.0;"
   ]
  },
  {
   "cell_type": "code",
   "execution_count": 4,
   "metadata": {},
   "outputs": [
    {
     "data": {
      "text/plain": [
       "0.05"
      ]
     },
     "execution_count": 4,
     "metadata": {},
     "output_type": "execute_result"
    }
   ],
   "source": [
    "stiff = 0.05"
   ]
  },
  {
   "cell_type": "code",
   "execution_count": 5,
   "metadata": {},
   "outputs": [],
   "source": [
    "dof₁ = Vector{Dof}(undef,3)\n",
    "[dof₁[i] = Dof(i+2, \"passive\", 0., 0., Motions()) for i = 1:3]\n",
    "config_joints[1] = ConfigJoint(njoint, \"planar\",\n",
    "    [0.,0.,0.,0.6,2.0,0.], zeros(Float64,6), 0, dof₁, [0.0,0.0,0.0]);"
   ]
  },
  {
   "cell_type": "code",
   "execution_count": 6,
   "metadata": {},
   "outputs": [],
   "source": [
    "motion₂ = Motions(\"oscillatory\", [-1.0, 1.0/(2*π), -π/2])\n",
    "dof₂ = Dof(3, \"active\", stiff, 0., motion₂)\n",
    "config_joints[2] = ConfigJoint(njoint, \"revolute\",\n",
    "   [0., 0., 0., 1.0+gap, 0., 0.],[0., 0., 0., -gap, 0., 0.],\n",
    "   1, [dof₂], [0.]);"
   ]
  },
  {
   "cell_type": "code",
   "execution_count": 7,
   "metadata": {},
   "outputs": [],
   "source": [
    "motion₃ = Motions(\"oscillatory\", [-1.0, 1.0/(2*π), 0.0])\n",
    "dof₃ = Dof(3, \"active\", stiff, 0., motion₃)\n",
    "config_joints[3] = ConfigJoint(njoint, \"revolute\",\n",
    "   [0., 0., 0., 1.0+gap, 0., 0.],[0., 0., 0., -gap, 0., 0.],\n",
    "   2, [dof₃], [0.]);"
   ]
  },
  {
   "cell_type": "markdown",
   "metadata": {},
   "source": [
    "### Build joint-body chain"
   ]
  },
  {
   "cell_type": "code",
   "execution_count": 8,
   "metadata": {},
   "outputs": [
    {
     "data": {
      "text/plain": []
     },
     "execution_count": 8,
     "metadata": {},
     "output_type": "execute_result"
    },
    {
     "name": "stdout",
     "output_type": "stream",
     "text": [
      "This is a 3 body-joint system, system is un-mounted from space"
     ]
    }
   ],
   "source": [
    "bodys, joints, system = BuildChain(config_bodys, config_joints,\n",
    "                                   config_system)\n",
    "bd = BodyDyn(bodys, joints, system)"
   ]
  },
  {
   "cell_type": "markdown",
   "metadata": {},
   "source": [
    "### Initialize system state"
   ]
  },
  {
   "cell_type": "code",
   "execution_count": 9,
   "metadata": {
    "scrolled": true
   },
   "outputs": [],
   "source": [
    "# init system\n",
    "bd, soln = InitSystem!(bd)\n",
    "\n",
    "# init soln structure\n",
    "solns = (Soln)[]\n",
    "push!(solns, soln)\n",
    "\n",
    "# init VertsHistory struct\n",
    "vs = []\n",
    "push!(vs, VertsHistory(system.nbody, bd.bs));"
   ]
  },
  {
   "cell_type": "code",
   "execution_count": 10,
   "metadata": {},
   "outputs": [
    {
     "data": {
      "image/png": "[encoded data removed]"
     },
     "execution_count": 10,
     "metadata": {},
     "output_type": "execute_result"
    }
   ],
   "source": [
    "@getfield bd (bs, js, sys)\n",
    "bs, js, sys = UpdatePosition!(bs, js, sys, soln.qJ)\n",
    "vs₀ = VertsHistory(sys.nbody, bs);\n",
    "\n",
    "p = plot()\n",
    "for i = 1:sys.nbody\n",
    "    plot!(p,vs₀[i,2:3,1], vs₀[i,2:3,2],linewidth=2)\n",
    "end\n",
    "plot!(xlims=(0,4), ylims=(0,3), ratio=1, legend=false)"
   ]
  },
  {
   "cell_type": "markdown",
   "metadata": {},
   "source": [
    "### Set up HERKBody object"
   ]
  },
  {
   "cell_type": "code",
   "execution_count": 11,
   "metadata": {
    "scrolled": true
   },
   "outputs": [
    {
     "data": {
      "text/plain": [
       "Order-3 HERK time-marching function like object for Dyn3d\n"
      ]
     },
     "execution_count": 11,
     "metadata": {},
     "output_type": "execute_result"
    }
   ],
   "source": [
    "herk = HERKBody(system.num_params,HERKFuncM, HERKFuncGT, HERKFuncG,\n",
    "                (HERKFuncf,HERKFuncgti), (UpdatePosition!,UpdateVelocity!),\n",
    "                _conservationcheck=true)"
   ]
  },
  {
   "cell_type": "markdown",
   "metadata": {},
   "source": [
    "### Time Marching"
   ]
  },
  {
   "cell_type": "markdown",
   "metadata": {},
   "source": [
    "#### Note that sometimes the solver can break due to singular matrix. Change between fixed step or not to solve the problem"
   ]
  },
  {
   "cell_type": "code",
   "execution_count": 12,
   "metadata": {},
   "outputs": [],
   "source": [
    "λhist = []\n",
    "bdhist = []\n",
    "thist = [];"
   ]
  },
  {
   "cell_type": "code",
   "execution_count": 13,
   "metadata": {
    "scrolled": false
   },
   "outputs": [
    {
     "name": "stdout",
     "output_type": "stream",
     "text": [
      "itr = 1, t = 0.0, dt = 0.005\n",
      "itr = 501, t = 2.5, dt = 0.005\n",
      "itr = 1001, t = 5.0, dt = 0.005\n",
      "itr = 1501, t = 7.5, dt = 0.005\n",
      "itr = 2001, t = 10.01, dt = 0.005\n",
      "itr = 2501, t = 12.51, dt = 0.005\n",
      "itr = 3001, t = 15.01, dt = 0.005\n",
      "itr = 3501, t = 17.51, dt = 0.005\n",
      "itr = 4000, t = 20.0, dt = 0.005 \n",
      "\n",
      " 21.023653 seconds (26.36 M allocations: 2.421 GiB, 9.41% gc time)\n"
     ]
    }
   ],
   "source": [
    "idx = 0\n",
    "@time begin\n",
    "while soln.t < tf\n",
    "    # advance one step\n",
    "    global soln, bd, dict = herk(soln, bd, _isfixedstep=true)\n",
    "\n",
    "    # record soln and verts_i info\n",
    "    push!(solns, soln)\n",
    "    push!(vs, VertsHistory(system.nbody, bd.bs))\n",
    "    push!(thist,deepcopy(soln.t)) \n",
    "    push!(λhist,deepcopy(soln.λ))\n",
    "    push!(bdhist,deepcopy(bd))\n",
    "        \n",
    "    # print progress\n",
    "    global idx += 1\n",
    "    if mod(idx,500) == 1\n",
    "        println(\"itr = $(idx), t = $(round(soln.t,digits=2)), dt = $(round(soln.dt,digits=4))\")\n",
    "    end\n",
    "end\n",
    "println(\"itr = $(idx), t = $(round(soln.t,digits=2)), dt = $(round(soln.dt,digits=4)) \\n\")\n",
    "end"
   ]
  },
  {
   "cell_type": "markdown",
   "metadata": {},
   "source": [
    "### Gif time"
   ]
  },
  {
   "cell_type": "code",
   "execution_count": 14,
   "metadata": {},
   "outputs": [],
   "source": [
    "# Total number of seconds of this gif\n",
    "gif_time = 8;"
   ]
  },
  {
   "cell_type": "code",
   "execution_count": 15,
   "metadata": {},
   "outputs": [],
   "source": [
    "vs = []\n",
    "for i = 1:length(thist)\n",
    "    push!(vs, VertsHistory(nbody, bdhist[i].bs))\n",
    "end\n",
    "\n",
    "xs = []\n",
    "ys = []\n",
    "xc = []\n",
    "yc = []\n",
    "\n",
    "for k = 1:length(thist)\n",
    "    xstmp = []\n",
    "    ystmp = []\n",
    "    for i = 1:nbody\n",
    "        for j = 2:3\n",
    "            # verts coord\n",
    "            push!(xstmp,vs[k][i,j,1])\n",
    "            push!(ystmp,vs[k][i,j,2])          \n",
    "        end\n",
    "    end\n",
    "    push!(xs,xstmp)\n",
    "    push!(ys,ystmp)\n",
    "    \n",
    "    # center of mass\n",
    "    @getfield bdhist[k] (bs,sys)\n",
    "    center = MassCenter(bs,sys)\n",
    "    push!(xc,center[1])\n",
    "    push!(yc,center[2])  \n",
    "    \n",
    "end"
   ]
  },
  {
   "cell_type": "code",
   "execution_count": 16,
   "metadata": {},
   "outputs": [
    {
     "data": {
      "image/png": "[encoded data removed]",
      "text/plain": [
       "PyPlot.Figure(PyObject <matplotlib.figure.Figure object at 0x7f88eb03bc88>)"
      ]
     },
     "metadata": {},
     "output_type": "display_data"
    },
    {
     "name": "stderr",
     "output_type": "stream",
     "text": [
      "┌ Info: Saved animation to \n",
      "│   fn = /mnt/g/Research/Dyn3d.jl/test/notebook_verify_mass_center/Validate center of mass - 3-body swim.gif\n",
      "└ @ Plots /home/fs/.julia/packages/Plots/oiirH/src/animation.jl:90\n"
     ]
    },
    {
     "data": {
      "text/html": [
       "<img src=\"Validate center of mass - 3-body swim.gif\" />"
      ],
      "text/plain": [
       "Plots.AnimatedGif(\"/mnt/g/Research/Dyn3d.jl/test/notebook_verify_mass_center/Validate center of mass - 3-body swim.gif\")"
      ]
     },
     "execution_count": 16,
     "metadata": {},
     "output_type": "execute_result"
    }
   ],
   "source": [
    "freq = round(Int,idx/30/gif_time)\n",
    "\n",
    "\n",
    "v2_x = []\n",
    "v2_y = []\n",
    "\n",
    "anim = @animate for i = 1:freq:length(thist)\n",
    "    p = plot(xs[i],ys[i], linewidth=3)   \n",
    "    scatter!(p,[xc[i]],[yc[i]],markersize=4, label=\"center\")\n",
    "    plot!(xlims=(0,4), ylims=(0,3), aspect_ratio=:equal)        \n",
    "end        \n",
    "\n",
    "gif(anim, casename*\".gif\", fps = 30)"
   ]
  }
 ],
 "metadata": {
  "@webio": {
   "lastCommId": null,
   "lastKernelId": null
  },
  "kernelspec": {
   "display_name": "Julia 1.1.0",
   "language": "julia",
   "name": "julia-1.1"
  },
  "language_info": {
   "file_extension": ".jl",
   "mimetype": "application/julia",
   "name": "julia",
   "version": "1.1.0"
  }
 },
 "nbformat": 4,
 "nbformat_minor": 2
}
